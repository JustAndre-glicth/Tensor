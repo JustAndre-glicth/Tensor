{
  "nbformat": 4,
  "nbformat_minor": 0,
  "metadata": {
    "colab": {
      "name": "RealCNNeXample.ipynb",
      "provenance": [],
      "toc_visible": true
    },
    "kernelspec": {
      "name": "python3",
      "display_name": "Python 3"
    }
  },
  "cells": [
    {
      "cell_type": "markdown",
      "metadata": {
        "id": "01hBPAuAByOD"
      },
      "source": [
        "# CNN :"
      ]
    },
    {
      "cell_type": "code",
      "metadata": {
        "id": "5GBx3oS_8fyv"
      },
      "source": [
        "import numpy as np\r\n",
        "import pandas as pd\r\n",
        "from keras.optimizers import SGD\r\n",
        "from keras.datasets import cifar10\r\n",
        "from keras.models import Sequential\r\n",
        "from keras.utils import np_utils as utils\r\n",
        "from keras.layers import Dropout, Dense, Flatten\r\n",
        "from keras.layers.convolutional import Conv2D, MaxPooling2D"
      ],
      "execution_count": null,
      "outputs": []
    },
    {
      "cell_type": "markdown",
      "metadata": {
        "id": "D9SYl9xT9G5V"
      },
      "source": [
        "# Load Cifar01 data:"
      ]
    },
    {
      "cell_type": "code",
      "metadata": {
        "id": "6s3uf7XX8laE"
      },
      "source": [
        "(X, y), (X_test, y_test) = cifar10.load_data()"
      ],
      "execution_count": null,
      "outputs": []
    },
    {
      "cell_type": "code",
      "metadata": {
        "colab": {
          "base_uri": "https://localhost:8080/"
        },
        "id": "avU0RVvA8oV7",
        "outputId": "a5b00026-1e60-4f62-846d-5660eb94b1b5"
      },
      "source": [
        "X_test"
      ],
      "execution_count": null,
      "outputs": [
        {
          "output_type": "execute_result",
          "data": {
            "text/plain": [
              "array([[[[158, 112,  49],\n",
              "         [159, 111,  47],\n",
              "         [165, 116,  51],\n",
              "         ...,\n",
              "         [137,  95,  36],\n",
              "         [126,  91,  36],\n",
              "         [116,  85,  33]],\n",
              "\n",
              "        [[152, 112,  51],\n",
              "         [151, 110,  40],\n",
              "         [159, 114,  45],\n",
              "         ...,\n",
              "         [136,  95,  31],\n",
              "         [125,  91,  32],\n",
              "         [119,  88,  34]],\n",
              "\n",
              "        [[151, 110,  47],\n",
              "         [151, 109,  33],\n",
              "         [158, 111,  36],\n",
              "         ...,\n",
              "         [139,  98,  34],\n",
              "         [130,  95,  34],\n",
              "         [120,  89,  33]],\n",
              "\n",
              "        ...,\n",
              "\n",
              "        [[ 68, 124, 177],\n",
              "         [ 42, 100, 148],\n",
              "         [ 31,  88, 137],\n",
              "         ...,\n",
              "         [ 38,  97, 146],\n",
              "         [ 13,  64, 108],\n",
              "         [ 40,  85, 127]],\n",
              "\n",
              "        [[ 61, 116, 168],\n",
              "         [ 49, 102, 148],\n",
              "         [ 35,  85, 132],\n",
              "         ...,\n",
              "         [ 26,  82, 130],\n",
              "         [ 29,  82, 126],\n",
              "         [ 20,  64, 107]],\n",
              "\n",
              "        [[ 54, 107, 160],\n",
              "         [ 56, 105, 149],\n",
              "         [ 45,  89, 132],\n",
              "         ...,\n",
              "         [ 24,  77, 124],\n",
              "         [ 34,  84, 129],\n",
              "         [ 21,  67, 110]]],\n",
              "\n",
              "\n",
              "       [[[235, 235, 235],\n",
              "         [231, 231, 231],\n",
              "         [232, 232, 232],\n",
              "         ...,\n",
              "         [233, 233, 233],\n",
              "         [233, 233, 233],\n",
              "         [232, 232, 232]],\n",
              "\n",
              "        [[238, 238, 238],\n",
              "         [235, 235, 235],\n",
              "         [235, 235, 235],\n",
              "         ...,\n",
              "         [236, 236, 236],\n",
              "         [236, 236, 236],\n",
              "         [235, 235, 235]],\n",
              "\n",
              "        [[237, 237, 237],\n",
              "         [234, 234, 234],\n",
              "         [234, 234, 234],\n",
              "         ...,\n",
              "         [235, 235, 235],\n",
              "         [235, 235, 235],\n",
              "         [234, 234, 234]],\n",
              "\n",
              "        ...,\n",
              "\n",
              "        [[ 87,  99,  89],\n",
              "         [ 43,  51,  37],\n",
              "         [ 19,  23,  11],\n",
              "         ...,\n",
              "         [169, 184, 179],\n",
              "         [182, 197, 193],\n",
              "         [188, 202, 201]],\n",
              "\n",
              "        [[ 82,  96,  82],\n",
              "         [ 46,  57,  36],\n",
              "         [ 36,  44,  22],\n",
              "         ...,\n",
              "         [174, 189, 183],\n",
              "         [185, 200, 196],\n",
              "         [187, 202, 200]],\n",
              "\n",
              "        [[ 85, 101,  83],\n",
              "         [ 62,  75,  48],\n",
              "         [ 58,  67,  38],\n",
              "         ...,\n",
              "         [168, 183, 178],\n",
              "         [180, 195, 191],\n",
              "         [186, 200, 199]]],\n",
              "\n",
              "\n",
              "       [[[158, 190, 222],\n",
              "         [158, 187, 218],\n",
              "         [139, 166, 194],\n",
              "         ...,\n",
              "         [228, 231, 234],\n",
              "         [237, 239, 243],\n",
              "         [238, 241, 246]],\n",
              "\n",
              "        [[170, 200, 229],\n",
              "         [172, 199, 226],\n",
              "         [151, 176, 201],\n",
              "         ...,\n",
              "         [232, 232, 236],\n",
              "         [246, 246, 250],\n",
              "         [246, 247, 251]],\n",
              "\n",
              "        [[174, 201, 225],\n",
              "         [176, 200, 222],\n",
              "         [157, 179, 199],\n",
              "         ...,\n",
              "         [230, 229, 232],\n",
              "         [250, 249, 251],\n",
              "         [245, 244, 247]],\n",
              "\n",
              "        ...,\n",
              "\n",
              "        [[ 31,  40,  45],\n",
              "         [ 30,  39,  44],\n",
              "         [ 26,  35,  40],\n",
              "         ...,\n",
              "         [ 37,  40,  46],\n",
              "         [  9,  13,  14],\n",
              "         [  4,   7,   5]],\n",
              "\n",
              "        [[ 23,  34,  39],\n",
              "         [ 27,  38,  43],\n",
              "         [ 25,  36,  41],\n",
              "         ...,\n",
              "         [ 19,  20,  24],\n",
              "         [  4,   6,   3],\n",
              "         [  5,   7,   3]],\n",
              "\n",
              "        [[ 28,  41,  47],\n",
              "         [ 30,  43,  50],\n",
              "         [ 32,  45,  52],\n",
              "         ...,\n",
              "         [  5,   6,   8],\n",
              "         [  4,   5,   3],\n",
              "         [  7,   8,   7]]],\n",
              "\n",
              "\n",
              "       ...,\n",
              "\n",
              "\n",
              "       [[[ 20,  15,  12],\n",
              "         [ 19,  14,  11],\n",
              "         [ 15,  14,  11],\n",
              "         ...,\n",
              "         [ 10,   9,   7],\n",
              "         [ 12,  11,   9],\n",
              "         [ 13,  12,  10]],\n",
              "\n",
              "        [[ 21,  16,  13],\n",
              "         [ 20,  16,  13],\n",
              "         [ 18,  17,  12],\n",
              "         ...,\n",
              "         [ 10,   9,   7],\n",
              "         [ 10,   9,   7],\n",
              "         [ 12,  11,   9]],\n",
              "\n",
              "        [[ 21,  16,  13],\n",
              "         [ 21,  17,  12],\n",
              "         [ 20,  18,  11],\n",
              "         ...,\n",
              "         [ 12,  11,   9],\n",
              "         [ 12,  11,   9],\n",
              "         [ 13,  12,  10]],\n",
              "\n",
              "        ...,\n",
              "\n",
              "        [[ 33,  25,  13],\n",
              "         [ 34,  26,  15],\n",
              "         [ 34,  26,  15],\n",
              "         ...,\n",
              "         [ 28,  25,  52],\n",
              "         [ 29,  25,  58],\n",
              "         [ 23,  20,  42]],\n",
              "\n",
              "        [[ 33,  25,  14],\n",
              "         [ 34,  26,  15],\n",
              "         [ 34,  26,  15],\n",
              "         ...,\n",
              "         [ 27,  24,  52],\n",
              "         [ 27,  24,  56],\n",
              "         [ 25,  22,  47]],\n",
              "\n",
              "        [[ 31,  23,  12],\n",
              "         [ 32,  24,  13],\n",
              "         [ 33,  25,  14],\n",
              "         ...,\n",
              "         [ 24,  23,  50],\n",
              "         [ 26,  23,  53],\n",
              "         [ 25,  20,  47]]],\n",
              "\n",
              "\n",
              "       [[[ 25,  40,  12],\n",
              "         [ 15,  36,   3],\n",
              "         [ 23,  41,  18],\n",
              "         ...,\n",
              "         [ 61,  82,  78],\n",
              "         [ 92, 113, 112],\n",
              "         [ 75,  89,  92]],\n",
              "\n",
              "        [[ 12,  25,   6],\n",
              "         [ 20,  37,   7],\n",
              "         [ 24,  36,  15],\n",
              "         ...,\n",
              "         [115, 134, 138],\n",
              "         [149, 168, 177],\n",
              "         [104, 117, 131]],\n",
              "\n",
              "        [[ 12,  25,  11],\n",
              "         [ 15,  29,   6],\n",
              "         [ 34,  40,  24],\n",
              "         ...,\n",
              "         [154, 172, 182],\n",
              "         [157, 175, 192],\n",
              "         [116, 129, 151]],\n",
              "\n",
              "        ...,\n",
              "\n",
              "        [[100, 129,  81],\n",
              "         [103, 132,  84],\n",
              "         [104, 134,  86],\n",
              "         ...,\n",
              "         [ 97, 128,  84],\n",
              "         [ 98, 126,  84],\n",
              "         [ 91, 121,  79]],\n",
              "\n",
              "        [[103, 132,  83],\n",
              "         [104, 131,  83],\n",
              "         [107, 135,  87],\n",
              "         ...,\n",
              "         [101, 132,  87],\n",
              "         [ 99, 127,  84],\n",
              "         [ 92, 121,  79]],\n",
              "\n",
              "        [[ 95, 126,  78],\n",
              "         [ 95, 123,  76],\n",
              "         [101, 128,  81],\n",
              "         ...,\n",
              "         [ 93, 124,  80],\n",
              "         [ 95, 123,  81],\n",
              "         [ 92, 120,  80]]],\n",
              "\n",
              "\n",
              "       [[[ 73,  78,  75],\n",
              "         [ 98, 103, 113],\n",
              "         [ 99, 106, 114],\n",
              "         ...,\n",
              "         [135, 150, 152],\n",
              "         [135, 149, 154],\n",
              "         [203, 215, 223]],\n",
              "\n",
              "        [[ 69,  73,  70],\n",
              "         [ 84,  89,  97],\n",
              "         [ 68,  75,  81],\n",
              "         ...,\n",
              "         [ 85,  95,  89],\n",
              "         [ 71,  82,  80],\n",
              "         [120, 133, 135]],\n",
              "\n",
              "        [[ 69,  73,  70],\n",
              "         [ 90,  95, 100],\n",
              "         [ 62,  71,  74],\n",
              "         ...,\n",
              "         [ 74,  81,  70],\n",
              "         [ 53,  62,  54],\n",
              "         [ 62,  74,  69]],\n",
              "\n",
              "        ...,\n",
              "\n",
              "        [[123, 128,  96],\n",
              "         [132, 132, 102],\n",
              "         [129, 128, 100],\n",
              "         ...,\n",
              "         [108, 107,  88],\n",
              "         [ 62,  60,  55],\n",
              "         [ 27,  27,  28]],\n",
              "\n",
              "        [[115, 121,  91],\n",
              "         [123, 124,  95],\n",
              "         [129, 126,  99],\n",
              "         ...,\n",
              "         [115, 116,  94],\n",
              "         [ 66,  65,  59],\n",
              "         [ 27,  27,  27]],\n",
              "\n",
              "        [[116, 120,  90],\n",
              "         [121, 122,  94],\n",
              "         [129, 128, 101],\n",
              "         ...,\n",
              "         [116, 115,  94],\n",
              "         [ 68,  65,  58],\n",
              "         [ 27,  26,  26]]]], dtype=uint8)"
            ]
          },
          "metadata": {
            "tags": []
          },
          "execution_count": 3
        }
      ]
    },
    {
      "cell_type": "markdown",
      "metadata": {
        "id": "4CjHS4I59Cbw"
      },
      "source": [
        "# Normalize the data:"
      ]
    },
    {
      "cell_type": "code",
      "metadata": {
        "id": "ScpdV_kb8qm8"
      },
      "source": [
        "X, X_test = X.astype('float32')/255.0, X_test.astype('float32')/255.0"
      ],
      "execution_count": null,
      "outputs": []
    },
    {
      "cell_type": "markdown",
      "metadata": {
        "id": "iK3dJ83k8_yR"
      },
      "source": [
        "# Convert to categorical"
      ]
    },
    {
      "cell_type": "code",
      "metadata": {
        "id": "lpxhJNO98vJG"
      },
      "source": [
        "y, y_test = utils.to_categorical(y, 10), utils.to_categorical(y_test, 10)"
      ],
      "execution_count": null,
      "outputs": []
    },
    {
      "cell_type": "markdown",
      "metadata": {
        "id": "rIY4zBeU9LVq"
      },
      "source": [
        "# Initialize the model:"
      ]
    },
    {
      "cell_type": "code",
      "metadata": {
        "id": "bKQ-Yl9m9JsN"
      },
      "source": [
        "model = Sequential()"
      ],
      "execution_count": null,
      "outputs": []
    },
    {
      "cell_type": "markdown",
      "metadata": {
        "id": "r8oNZZ6U9UMX"
      },
      "source": [
        "# Add Convolutional Layer"
      ]
    },
    {
      "cell_type": "code",
      "metadata": {
        "id": "f7W-51n99PuL"
      },
      "source": [
        "model.add(Conv2D(32, (3, 3), input_shape=(32, 32, 3), padding='same', activation='relu'))"
      ],
      "execution_count": null,
      "outputs": []
    },
    {
      "cell_type": "markdown",
      "metadata": {
        "id": "yHl3opJY9ZUe"
      },
      "source": [
        "# Add the dropout rate"
      ]
    },
    {
      "cell_type": "code",
      "metadata": {
        "id": "iEun-xtP9XYP"
      },
      "source": [
        "model.add(Dropout(0.2))"
      ],
      "execution_count": null,
      "outputs": []
    },
    {
      "cell_type": "markdown",
      "metadata": {
        "id": "CKzdwXHS9bUv"
      },
      "source": [
        "# Add another CNN layer with padding = valid."
      ]
    },
    {
      "cell_type": "code",
      "metadata": {
        "id": "HO3LYCJl9fU7"
      },
      "source": [
        "model.add(Conv2D(32, (3, 3), activation='relu', padding='valid'))"
      ],
      "execution_count": null,
      "outputs": []
    },
    {
      "cell_type": "markdown",
      "metadata": {
        "id": "hjz-uij39iai"
      },
      "source": [
        "# Add a Max Pooling layer."
      ]
    },
    {
      "cell_type": "code",
      "metadata": {
        "id": "kZIOoTRi9kwe"
      },
      "source": [
        "model.add(MaxPooling2D(pool_size=(2, 2)))"
      ],
      "execution_count": null,
      "outputs": []
    },
    {
      "cell_type": "markdown",
      "metadata": {
        "id": "nmljgUGs9nps"
      },
      "source": [
        "# Flatten the data"
      ]
    },
    {
      "cell_type": "code",
      "metadata": {
        "id": "D5LWldoD9phg"
      },
      "source": [
        "model.add(Flatten())"
      ],
      "execution_count": null,
      "outputs": []
    },
    {
      "cell_type": "markdown",
      "metadata": {
        "id": "oA5Cs0ty9sqb"
      },
      "source": [
        "# Add dense layer"
      ]
    },
    {
      "cell_type": "code",
      "metadata": {
        "id": "8GSpAAis9ru1"
      },
      "source": [
        "model.add(Dense(512, activation='relu'))"
      ],
      "execution_count": null,
      "outputs": []
    },
    {
      "cell_type": "markdown",
      "metadata": {
        "id": "gufTzxG29106"
      },
      "source": [
        "# Add dropout"
      ]
    },
    {
      "cell_type": "code",
      "metadata": {
        "id": "RXpGLFEu94W7"
      },
      "source": [
        "model.add(Dropout(0.3))"
      ],
      "execution_count": null,
      "outputs": []
    },
    {
      "cell_type": "markdown",
      "metadata": {
        "id": "ClSK-XzT96pY"
      },
      "source": [
        "# Add the output dense layer:"
      ]
    },
    {
      "cell_type": "code",
      "metadata": {
        "id": "XQR1pxTl98vO"
      },
      "source": [
        "model.add(Dense(10, activation='softmax'))"
      ],
      "execution_count": null,
      "outputs": []
    },
    {
      "cell_type": "markdown",
      "metadata": {
        "id": "Sl-xCzBY9_ci"
      },
      "source": [
        "# Compile the model"
      ]
    },
    {
      "cell_type": "code",
      "metadata": {
        "id": "4JBgTAcE-BRo"
      },
      "source": [
        "model.compile(loss='categorical_crossentropy',\r\n",
        "              optimizer=SGD(momentum=0.5, decay=0.0004), metrics=['accuracy'])"
      ],
      "execution_count": null,
      "outputs": []
    },
    {
      "cell_type": "markdown",
      "metadata": {
        "id": "sfRFxQ7u-ItN"
      },
      "source": [
        "# Fit the algorithm with 25 epochs"
      ]
    },
    {
      "cell_type": "code",
      "metadata": {
        "colab": {
          "base_uri": "https://localhost:8080/"
        },
        "id": "byUuig35-LQ2",
        "outputId": "373e1ead-870f-45d4-83b5-d1c0c8e12184"
      },
      "source": [
        "model.fit(X, y, validation_data=(X_test, y_test), epochs=1, batch_size=512)"
      ],
      "execution_count": null,
      "outputs": [
        {
          "output_type": "stream",
          "text": [
            "98/98 [==============================] - 154s 2s/step - loss: 2.2767 - accuracy: 0.1392 - val_loss: 2.1124 - val_accuracy: 0.2623\n"
          ],
          "name": "stdout"
        },
        {
          "output_type": "execute_result",
          "data": {
            "text/plain": [
              "<tensorflow.python.keras.callbacks.History at 0x7ff7ce91d510>"
            ]
          },
          "metadata": {
            "tags": []
          },
          "execution_count": 16
        }
      ]
    },
    {
      "cell_type": "markdown",
      "metadata": {
        "id": "3DuJCotC-gOk"
      },
      "source": [
        "# Check accuracy"
      ]
    },
    {
      "cell_type": "code",
      "metadata": {
        "colab": {
          "base_uri": "https://localhost:8080/"
        },
        "id": "ceFa3PtW-iMY",
        "outputId": "7d388c13-1fe0-474d-b014-5f9e0f3b1aea"
      },
      "source": [
        "print((model.evaluate(X_test, y_test)[1]*100))"
      ],
      "execution_count": null,
      "outputs": [
        {
          "output_type": "stream",
          "text": [
            "313/313 [==============================] - 9s 28ms/step - loss: 2.1124 - accuracy: 0.2623\n",
            "26.23000144958496\n"
          ],
          "name": "stdout"
        }
      ]
    },
    {
      "cell_type": "markdown",
      "metadata": {
        "id": "QGx06gRl_M4X"
      },
      "source": [
        "# Tensorflow CNN:"
      ]
    },
    {
      "cell_type": "markdown",
      "metadata": {
        "id": "cg64G1CM-93i"
      },
      "source": [
        "![image.png](data:image/png;base64,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)"
      ]
    },
    {
      "cell_type": "code",
      "metadata": {
        "id": "nl8LehvW_ygn"
      },
      "source": [
        "import tensorflow as tf\r\n",
        "import numpy as np\r\n",
        "import matplotlib.pyplot as plt\r\n",
        "%matplotlib inline\r\n",
        "import time"
      ],
      "execution_count": null,
      "outputs": []
    },
    {
      "cell_type": "code",
      "metadata": {
        "colab": {
          "base_uri": "https://localhost:8080/",
          "height": 214
        },
        "id": "yViThdz2_1Lu",
        "outputId": "5c64148a-9792-47a8-b5a6-567245309ea0"
      },
      "source": [
        "!pip tensorflow\r\n",
        "#from tensorflow.examples.tutorials.mnist import input_data\r\n",
        "data = input_data.read_data_sets('data/MNIST/', one_hot=True)"
      ],
      "execution_count": null,
      "outputs": [
        {
          "output_type": "stream",
          "text": [
            "ERROR: unknown command \"tensorflow\"\n"
          ],
          "name": "stdout"
        },
        {
          "output_type": "error",
          "ename": "NameError",
          "evalue": "ignored",
          "traceback": [
            "\u001b[0;31m---------------------------------------------------------------------------\u001b[0m",
            "\u001b[0;31mNameError\u001b[0m                                 Traceback (most recent call last)",
            "\u001b[0;32m<ipython-input-25-9196a2396698>\u001b[0m in \u001b[0;36m<module>\u001b[0;34m()\u001b[0m\n\u001b[1;32m      1\u001b[0m \u001b[0mget_ipython\u001b[0m\u001b[0;34m(\u001b[0m\u001b[0;34m)\u001b[0m\u001b[0;34m.\u001b[0m\u001b[0msystem\u001b[0m\u001b[0;34m(\u001b[0m\u001b[0;34m'pip tensorflow'\u001b[0m\u001b[0;34m)\u001b[0m\u001b[0;34m\u001b[0m\u001b[0;34m\u001b[0m\u001b[0m\n\u001b[1;32m      2\u001b[0m \u001b[0;31m#from tensorflow.examples.tutorials.mnist import input_data\u001b[0m\u001b[0;34m\u001b[0m\u001b[0;34m\u001b[0m\u001b[0;34m\u001b[0m\u001b[0m\n\u001b[0;32m----> 3\u001b[0;31m \u001b[0mdata\u001b[0m \u001b[0;34m=\u001b[0m \u001b[0minput_data\u001b[0m\u001b[0;34m.\u001b[0m\u001b[0mread_data_sets\u001b[0m\u001b[0;34m(\u001b[0m\u001b[0;34m'data/MNIST/'\u001b[0m\u001b[0;34m,\u001b[0m \u001b[0mone_hot\u001b[0m\u001b[0;34m=\u001b[0m\u001b[0;32mTrue\u001b[0m\u001b[0;34m)\u001b[0m\u001b[0;34m\u001b[0m\u001b[0;34m\u001b[0m\u001b[0m\n\u001b[0m",
            "\u001b[0;31mNameError\u001b[0m: name 'input_data' is not defined"
          ]
        }
      ]
    },
    {
      "cell_type": "code",
      "metadata": {
        "colab": {
          "base_uri": "https://localhost:8080/",
          "height": 231
        },
        "id": "1Rekl7Wh_3ow",
        "outputId": "326b09f8-f4cc-4837-9415-c9bebe639106"
      },
      "source": [
        "print(\"Size of:\")\r\n",
        "print(\"- Training-set:\\t\\t{}\".format(len(data.train.labels)))\r\n",
        "print(\"- Test-set:\\t\\t{}\".format(len(data.test.labels)))\r\n",
        "print(\"- Validation-set:\\t{}\".format(len(data.validation.labels)))"
      ],
      "execution_count": null,
      "outputs": [
        {
          "output_type": "stream",
          "text": [
            "Size of:\n"
          ],
          "name": "stdout"
        },
        {
          "output_type": "error",
          "ename": "NameError",
          "evalue": "ignored",
          "traceback": [
            "\u001b[0;31m---------------------------------------------------------------------------\u001b[0m",
            "\u001b[0;31mNameError\u001b[0m                                 Traceback (most recent call last)",
            "\u001b[0;32m<ipython-input-24-7424569c1944>\u001b[0m in \u001b[0;36m<module>\u001b[0;34m()\u001b[0m\n\u001b[1;32m      1\u001b[0m \u001b[0mprint\u001b[0m\u001b[0;34m(\u001b[0m\u001b[0;34m\"Size of:\"\u001b[0m\u001b[0;34m)\u001b[0m\u001b[0;34m\u001b[0m\u001b[0;34m\u001b[0m\u001b[0m\n\u001b[0;32m----> 2\u001b[0;31m \u001b[0mprint\u001b[0m\u001b[0;34m(\u001b[0m\u001b[0;34m\"- Training-set:\\t\\t{}\"\u001b[0m\u001b[0;34m.\u001b[0m\u001b[0mformat\u001b[0m\u001b[0;34m(\u001b[0m\u001b[0mlen\u001b[0m\u001b[0;34m(\u001b[0m\u001b[0mdata\u001b[0m\u001b[0;34m.\u001b[0m\u001b[0mtrain\u001b[0m\u001b[0;34m.\u001b[0m\u001b[0mlabels\u001b[0m\u001b[0;34m)\u001b[0m\u001b[0;34m)\u001b[0m\u001b[0;34m)\u001b[0m\u001b[0;34m\u001b[0m\u001b[0;34m\u001b[0m\u001b[0m\n\u001b[0m\u001b[1;32m      3\u001b[0m \u001b[0mprint\u001b[0m\u001b[0;34m(\u001b[0m\u001b[0;34m\"- Test-set:\\t\\t{}\"\u001b[0m\u001b[0;34m.\u001b[0m\u001b[0mformat\u001b[0m\u001b[0;34m(\u001b[0m\u001b[0mlen\u001b[0m\u001b[0;34m(\u001b[0m\u001b[0mdata\u001b[0m\u001b[0;34m.\u001b[0m\u001b[0mtest\u001b[0m\u001b[0;34m.\u001b[0m\u001b[0mlabels\u001b[0m\u001b[0;34m)\u001b[0m\u001b[0;34m)\u001b[0m\u001b[0;34m)\u001b[0m\u001b[0;34m\u001b[0m\u001b[0;34m\u001b[0m\u001b[0m\n\u001b[1;32m      4\u001b[0m \u001b[0mprint\u001b[0m\u001b[0;34m(\u001b[0m\u001b[0;34m\"- Validation-set:\\t{}\"\u001b[0m\u001b[0;34m.\u001b[0m\u001b[0mformat\u001b[0m\u001b[0;34m(\u001b[0m\u001b[0mlen\u001b[0m\u001b[0;34m(\u001b[0m\u001b[0mdata\u001b[0m\u001b[0;34m.\u001b[0m\u001b[0mvalidation\u001b[0m\u001b[0;34m.\u001b[0m\u001b[0mlabels\u001b[0m\u001b[0;34m)\u001b[0m\u001b[0;34m)\u001b[0m\u001b[0;34m)\u001b[0m\u001b[0;34m\u001b[0m\u001b[0;34m\u001b[0m\u001b[0m\n",
            "\u001b[0;31mNameError\u001b[0m: name 'data' is not defined"
          ]
        }
      ]
    },
    {
      "cell_type": "markdown",
      "metadata": {
        "id": "Vj9RQ3t7_8-Z"
      },
      "source": [
        "# Placeholder variables"
      ]
    },
    {
      "cell_type": "code",
      "metadata": {
        "id": "qjoOO0T9_6fN"
      },
      "source": [
        "# Placeholder variable for the input images\r\n",
        "x = tf.placeholder(tf.float32, shape=[None, 28*28], name='X')\r\n",
        "# Reshape it into [num_images, img_height, img_width, num_channels]\r\n",
        "x_image = tf.reshape(x, [-1, 28, 28, 1])\r\n",
        "\r\n",
        "# Placeholder variable for the true labels associated with the images\r\n",
        "y_true = tf.placeholder(tf.float32, shape=[None, 10], name='y_true')\r\n",
        "y_true_cls = tf.argmax(y_true, dimension=1)"
      ],
      "execution_count": null,
      "outputs": []
    },
    {
      "cell_type": "markdown",
      "metadata": {
        "id": "BqjOGOVnABbg"
      },
      "source": [
        "# Function for creating a new Convolution Layer"
      ]
    },
    {
      "cell_type": "code",
      "metadata": {
        "id": "R_DDo25WAEwJ"
      },
      "source": [
        "def new_conv_layer(input, num_input_channels, filter_size, num_filters, name):\r\n",
        "    \r\n",
        "    with tf.variable_scope(name) as scope:\r\n",
        "        # Shape of the filter-weights for the convolution\r\n",
        "        shape = [filter_size, filter_size, num_input_channels, num_filters]\r\n",
        "\r\n",
        "        # Create new weights (filters) with the given shape\r\n",
        "        weights = tf.Variable(tf.truncated_normal(shape, stddev=0.05))\r\n",
        "\r\n",
        "        # Create new biases, one for each filter\r\n",
        "        biases = tf.Variable(tf.constant(0.05, shape=[num_filters]))\r\n",
        "\r\n",
        "        # TensorFlow operation for convolution\r\n",
        "        layer = tf.nn.conv2d(input=input, filter=weights, strides=[1, 1, 1, 1], padding='SAME')\r\n",
        "\r\n",
        "        # Add the biases to the results of the convolution.\r\n",
        "        layer += biases\r\n",
        "        \r\n",
        "        return layer, weights"
      ],
      "execution_count": null,
      "outputs": []
    },
    {
      "cell_type": "markdown",
      "metadata": {
        "id": "fXwcQDfgAJ3G"
      },
      "source": [
        "\r\n",
        "# Function for creating a new Pooling Layer"
      ]
    },
    {
      "cell_type": "code",
      "metadata": {
        "id": "7xIpzV2vAVZo"
      },
      "source": [
        "def new_pool_layer(input, name):\r\n",
        "    \r\n",
        "    with tf.variable_scope(name) as scope:\r\n",
        "        # TensorFlow operation for convolution\r\n",
        "        layer = tf.nn.max_pool(value=input, ksize=[1, 2, 2, 1], strides=[1, 2, 2, 1], padding='SAME')\r\n",
        "        \r\n",
        "        return layer"
      ],
      "execution_count": null,
      "outputs": []
    },
    {
      "cell_type": "markdown",
      "metadata": {
        "id": "ddLqAkncAXtK"
      },
      "source": [
        "# Function for creating a new ReLU Layer"
      ]
    },
    {
      "cell_type": "code",
      "metadata": {
        "id": "03Ze0QEFAbMw"
      },
      "source": [
        "def new_relu_layer(input, name):\r\n",
        "    \r\n",
        "    with tf.variable_scope(name) as scope:\r\n",
        "        # TensorFlow operation for convolution\r\n",
        "        layer = tf.nn.relu(input)\r\n",
        "        \r\n",
        "        return layer"
      ],
      "execution_count": null,
      "outputs": []
    },
    {
      "cell_type": "markdown",
      "metadata": {
        "id": "9FAr00tNAeiR"
      },
      "source": [
        "# Function for creating a new Fully connected Layer"
      ]
    },
    {
      "cell_type": "code",
      "metadata": {
        "id": "FvMB7nM6AhBP"
      },
      "source": [
        "def new_fc_layer(input, num_inputs, num_outputs, name):\r\n",
        "    \r\n",
        "    with tf.variable_scope(name) as scope:\r\n",
        "\r\n",
        "        # Create new weights and biases.\r\n",
        "        weights = tf.Variable(tf.truncated_normal([num_inputs, num_outputs], stddev=0.05))\r\n",
        "        biases = tf.Variable(tf.constant(0.05, shape=[num_outputs]))\r\n",
        "        \r\n",
        "        # Multiply the input and weights, and then add the bias-values.\r\n",
        "        layer = tf.matmul(input, weights) + biases\r\n",
        "        \r\n",
        "        return layer"
      ],
      "execution_count": null,
      "outputs": []
    },
    {
      "cell_type": "markdown",
      "metadata": {
        "id": "wTU8tVKjAjk4"
      },
      "source": [
        "# Create Convolutional Neural Network"
      ]
    },
    {
      "cell_type": "code",
      "metadata": {
        "id": "FFH7U5EhAnXK"
      },
      "source": [
        "# Convolutional Layer 1\r\n",
        "layer_conv1, weights_conv1 = new_conv_layer(input=x_image, num_input_channels=1, filter_size=5, num_filters=6, name =\"conv1\")\r\n",
        "\r\n",
        "# Pooling Layer 1\r\n",
        "layer_pool1 = new_pool_layer(layer_conv1, name=\"pool1\")\r\n",
        "\r\n",
        "# RelU layer 1\r\n",
        "layer_relu1 = new_relu_layer(layer_pool1, name=\"relu1\")\r\n",
        "\r\n",
        "# Convolutional Layer 2\r\n",
        "layer_conv2, weights_conv2 = new_conv_layer(input=layer_relu1, num_input_channels=6, filter_size=5, num_filters=16, name= \"conv2\")\r\n",
        "\r\n",
        "# Pooling Layer 2\r\n",
        "layer_pool2 = new_pool_layer(layer_conv2, name=\"pool2\")\r\n",
        "\r\n",
        "# RelU layer 2\r\n",
        "layer_relu2 = new_relu_layer(layer_pool2, name=\"relu2\")\r\n",
        "\r\n",
        "# Flatten Layer\r\n",
        "num_features = layer_relu2.get_shape()[1:4].num_elements()\r\n",
        "layer_flat = tf.reshape(layer_relu2, [-1, num_features])\r\n",
        "\r\n",
        "# Fully-Connected Layer 1\r\n",
        "layer_fc1 = new_fc_layer(layer_flat, num_inputs=num_features, num_outputs=128, name=\"fc1\")\r\n",
        "\r\n",
        "# RelU layer 3\r\n",
        "layer_relu3 = new_relu_layer(layer_fc1, name=\"relu3\")\r\n",
        "\r\n",
        "# Fully-Connected Layer 2\r\n",
        "layer_fc2 = new_fc_layer(input=layer_relu3, num_inputs=128, num_outputs=10, name=\"fc2\")"
      ],
      "execution_count": null,
      "outputs": []
    },
    {
      "cell_type": "code",
      "metadata": {
        "id": "YV-eEfaJAsxS"
      },
      "source": [
        "# Use Softmax function to normalize the output\r\n",
        "with tf.variable_scope(\"Softmax\"):\r\n",
        "    y_pred = tf.nn.softmax(layer_fc2)\r\n",
        "    y_pred_cls = tf.argmax(y_pred, dimension=1)\r\n"
      ],
      "execution_count": null,
      "outputs": []
    },
    {
      "cell_type": "markdown",
      "metadata": {
        "id": "Dt-oFe1WArtV"
      },
      "source": [
        "# Cost Function"
      ]
    },
    {
      "cell_type": "code",
      "metadata": {
        "id": "b9dIZizFAyG9"
      },
      "source": [
        "\r\n",
        "# Use Cross entropy cost function\r\n",
        "with tf.name_scope(\"cross_ent\"):\r\n",
        "    cross_entropy = tf.nn.softmax_cross_entropy_with_logits(logits=layer_fc2, labels=y_true)\r\n",
        "    cost = tf.reduce_mean(cross_entropy)"
      ],
      "execution_count": null,
      "outputs": []
    },
    {
      "cell_type": "markdown",
      "metadata": {
        "id": "iXG96VxxA0t7"
      },
      "source": [
        "# Optimizer"
      ]
    },
    {
      "cell_type": "code",
      "metadata": {
        "id": "JNELWHRjA33n"
      },
      "source": [
        "# Use Adam Optimizer\r\n",
        "with tf.name_scope(\"optimizer\"):\r\n",
        "    optimizer = tf.train.AdamOptimizer(learning_rate=1e-4).minimize(cost)"
      ],
      "execution_count": null,
      "outputs": []
    },
    {
      "cell_type": "markdown",
      "metadata": {
        "id": "e30UyewyA5u_"
      },
      "source": [
        "# Accuracy"
      ]
    },
    {
      "cell_type": "code",
      "metadata": {
        "id": "xqGNbfsSA8UR"
      },
      "source": [
        "# Accuracy\r\n",
        "with tf.name_scope(\"accuracy\"):\r\n",
        "    correct_prediction = tf.equal(y_pred_cls, y_true_cls)\r\n",
        "    accuracy = tf.reduce_mean(tf.cast(correct_prediction, tf.float32))"
      ],
      "execution_count": null,
      "outputs": []
    },
    {
      "cell_type": "code",
      "metadata": {
        "id": "bjpYidCZA-sy"
      },
      "source": [
        "# Initialize the FileWriter\r\n",
        "writer = tf.summary.FileWriter(\"Training_FileWriter/\")\r\n",
        "writer1 = tf.summary.FileWriter(\"Validation_FileWriter/\")"
      ],
      "execution_count": null,
      "outputs": []
    },
    {
      "cell_type": "code",
      "metadata": {
        "id": "60SzJpJ6BBGY"
      },
      "source": [
        "# Add the cost and accuracy to summary\r\n",
        "tf.summary.scalar('loss', cost)\r\n",
        "tf.summary.scalar('accuracy', accuracy)\r\n",
        "\r\n",
        "# Merge all summaries together\r\n",
        "merged_summary = tf.summary.merge_all()"
      ],
      "execution_count": null,
      "outputs": []
    },
    {
      "cell_type": "code",
      "metadata": {
        "id": "5jg-dTWnBDVx"
      },
      "source": [
        "num_epochs = 100\r\n",
        "batch_size = 100"
      ],
      "execution_count": null,
      "outputs": []
    },
    {
      "cell_type": "markdown",
      "metadata": {
        "id": "vMkTpCsIBF8_"
      },
      "source": [
        "# TensorFlow Session"
      ]
    },
    {
      "cell_type": "code",
      "metadata": {
        "id": "UCxncsOMBIr7"
      },
      "source": [
        "with tf.Session() as sess:\r\n",
        "    # Initialize all variables\r\n",
        "    sess.run(tf.global_variables_initializer())\r\n",
        "    \r\n",
        "    # Add the model graph to TensorBoard\r\n",
        "    writer.add_graph(sess.graph)\r\n",
        "    \r\n",
        "    # Loop over number of epochs\r\n",
        "    for epoch in range(num_epochs):\r\n",
        "        \r\n",
        "        start_time = time.time()\r\n",
        "        train_accuracy = 0\r\n",
        "        \r\n",
        "        for batch in range(0, int(len(data.train.labels)/batch_size)):\r\n",
        "            \r\n",
        "            # Get a batch of images and labels\r\n",
        "            x_batch, y_true_batch = data.train.next_batch(batch_size)\r\n",
        "            \r\n",
        "            # Put the batch into a dict with the proper names for placeholder variables\r\n",
        "            feed_dict_train = {x: x_batch, y_true: y_true_batch}\r\n",
        "            \r\n",
        "            # Run the optimizer using this batch of training data.\r\n",
        "            sess.run(optimizer, feed_dict=feed_dict_train)\r\n",
        "            \r\n",
        "            # Calculate the accuracy on the batch of training data\r\n",
        "            train_accuracy += sess.run(accuracy, feed_dict=feed_dict_train)\r\n",
        "            \r\n",
        "            # Generate summary with the current batch of data and write to file\r\n",
        "            summ = sess.run(merged_summary, feed_dict=feed_dict_train)\r\n",
        "            writer.add_summary(summ, epoch*int(len(data.train.labels)/batch_size) + batch)\r\n",
        "        \r\n",
        "          \r\n",
        "        train_accuracy /= int(len(data.train.labels)/batch_size)\r\n",
        "        \r\n",
        "        # Generate summary and validate the model on the entire validation set\r\n",
        "        summ, vali_accuracy = sess.run([merged_summary, accuracy], feed_dict={x:data.validation.images, y_true:data.validation.labels})\r\n",
        "        writer1.add_summary(summ, epoch)\r\n",
        "        \r\n",
        "\r\n",
        "        end_time = time.time()\r\n",
        "        \r\n",
        "        print(\"Epoch \"+str(epoch+1)+\" completed : Time usage \"+str(int(end_time-start_time))+\" seconds\")\r\n",
        "        print(\"\\tAccuracy:\")\r\n",
        "        print (\"\\t- Training Accuracy:\\t{}\".format(train_accuracy))\r\n",
        "        print (\"\\t- Validation Accuracy:\\t{}\".format(vali_accuracy))"
      ],
      "execution_count": null,
      "outputs": []
    }
  ]
}